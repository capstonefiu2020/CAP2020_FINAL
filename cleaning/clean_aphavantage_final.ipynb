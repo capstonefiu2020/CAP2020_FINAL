{
 "cells": [
  {
   "cell_type": "code",
   "execution_count": 1,
   "metadata": {},
   "outputs": [],
   "source": [
    "import pandas as pd\n",
    "import numpy as np\n",
    "import matplotlib.pyplot as plt\n",
    "import os"
   ]
  },
  {
   "cell_type": "code",
   "execution_count": 2,
   "metadata": {},
   "outputs": [],
   "source": [
    "#os.getcwd()"
   ]
  },
  {
   "cell_type": "code",
   "execution_count": 3,
   "metadata": {},
   "outputs": [],
   "source": [
    "os.chdir('C:\\\\Users\\\\A Sua\\\\Documents\\\\FIU\\\\CAP2020\\\\data\\\\external\\\\av_data\\\\sp500')"
   ]
  },
  {
   "cell_type": "code",
   "execution_count": 4,
   "metadata": {},
   "outputs": [
    {
     "data": {
      "text/html": [
       "<div>\n",
       "<style scoped>\n",
       "    .dataframe tbody tr th:only-of-type {\n",
       "        vertical-align: middle;\n",
       "    }\n",
       "\n",
       "    .dataframe tbody tr th {\n",
       "        vertical-align: top;\n",
       "    }\n",
       "\n",
       "    .dataframe thead th {\n",
       "        text-align: right;\n",
       "    }\n",
       "</style>\n",
       "<table border=\"1\" class=\"dataframe\">\n",
       "  <thead>\n",
       "    <tr style=\"text-align: right;\">\n",
       "      <th></th>\n",
       "      <th>date</th>\n",
       "      <th>AAPL_open</th>\n",
       "      <th>AAPL_high</th>\n",
       "      <th>AAPL_low</th>\n",
       "      <th>AAPL_close</th>\n",
       "      <th>AAPL_volume</th>\n",
       "      <th>AAPL_return</th>\n",
       "    </tr>\n",
       "  </thead>\n",
       "  <tbody>\n",
       "    <tr>\n",
       "      <th>0</th>\n",
       "      <td>2020-03-31</td>\n",
       "      <td>255.60</td>\n",
       "      <td>262.49</td>\n",
       "      <td>252.00</td>\n",
       "      <td>254.29</td>\n",
       "      <td>49039414.0</td>\n",
       "      <td>-0.005125</td>\n",
       "    </tr>\n",
       "    <tr>\n",
       "      <th>1</th>\n",
       "      <td>2020-03-30</td>\n",
       "      <td>250.74</td>\n",
       "      <td>255.52</td>\n",
       "      <td>249.40</td>\n",
       "      <td>254.81</td>\n",
       "      <td>41994110.0</td>\n",
       "      <td>0.016232</td>\n",
       "    </tr>\n",
       "    <tr>\n",
       "      <th>2</th>\n",
       "      <td>2020-03-27</td>\n",
       "      <td>252.75</td>\n",
       "      <td>255.87</td>\n",
       "      <td>247.05</td>\n",
       "      <td>247.74</td>\n",
       "      <td>51054153.0</td>\n",
       "      <td>-0.019822</td>\n",
       "    </tr>\n",
       "    <tr>\n",
       "      <th>3</th>\n",
       "      <td>2020-03-26</td>\n",
       "      <td>246.52</td>\n",
       "      <td>258.68</td>\n",
       "      <td>246.36</td>\n",
       "      <td>258.44</td>\n",
       "      <td>63140169.0</td>\n",
       "      <td>0.048353</td>\n",
       "    </tr>\n",
       "    <tr>\n",
       "      <th>4</th>\n",
       "      <td>2020-03-25</td>\n",
       "      <td>250.75</td>\n",
       "      <td>258.25</td>\n",
       "      <td>244.30</td>\n",
       "      <td>245.52</td>\n",
       "      <td>75900510.0</td>\n",
       "      <td>-0.020857</td>\n",
       "    </tr>\n",
       "  </tbody>\n",
       "</table>\n",
       "</div>"
      ],
      "text/plain": [
       "         date  AAPL_open  AAPL_high  AAPL_low  AAPL_close  AAPL_volume  \\\n",
       "0  2020-03-31     255.60     262.49    252.00      254.29   49039414.0   \n",
       "1  2020-03-30     250.74     255.52    249.40      254.81   41994110.0   \n",
       "2  2020-03-27     252.75     255.87    247.05      247.74   51054153.0   \n",
       "3  2020-03-26     246.52     258.68    246.36      258.44   63140169.0   \n",
       "4  2020-03-25     250.75     258.25    244.30      245.52   75900510.0   \n",
       "\n",
       "   AAPL_return  \n",
       "0    -0.005125  \n",
       "1     0.016232  \n",
       "2    -0.019822  \n",
       "3     0.048353  \n",
       "4    -0.020857  "
      ]
     },
     "execution_count": 4,
     "metadata": {},
     "output_type": "execute_result"
    }
   ],
   "source": [
    "temp_df = pd.read_csv(os.listdir()[3])\n",
    "temp_df.head()"
   ]
  },
  {
   "cell_type": "code",
   "execution_count": 5,
   "metadata": {},
   "outputs": [
    {
     "data": {
      "text/html": [
       "<div>\n",
       "<style scoped>\n",
       "    .dataframe tbody tr th:only-of-type {\n",
       "        vertical-align: middle;\n",
       "    }\n",
       "\n",
       "    .dataframe tbody tr th {\n",
       "        vertical-align: top;\n",
       "    }\n",
       "\n",
       "    .dataframe thead th {\n",
       "        text-align: right;\n",
       "    }\n",
       "</style>\n",
       "<table border=\"1\" class=\"dataframe\">\n",
       "  <thead>\n",
       "    <tr style=\"text-align: right;\">\n",
       "      <th></th>\n",
       "      <th>date</th>\n",
       "      <th>AAPL_open</th>\n",
       "      <th>AAPL_high</th>\n",
       "      <th>AAPL_low</th>\n",
       "      <th>AAPL_close</th>\n",
       "      <th>AAPL_volume</th>\n",
       "      <th>AAPL_return</th>\n",
       "    </tr>\n",
       "  </thead>\n",
       "  <tbody>\n",
       "    <tr>\n",
       "      <th>0</th>\n",
       "      <td>2020-03-31</td>\n",
       "      <td>255.60</td>\n",
       "      <td>262.49</td>\n",
       "      <td>252.00</td>\n",
       "      <td>254.29</td>\n",
       "      <td>49039414.0</td>\n",
       "      <td>-0.005125</td>\n",
       "    </tr>\n",
       "    <tr>\n",
       "      <th>1</th>\n",
       "      <td>2020-03-30</td>\n",
       "      <td>250.74</td>\n",
       "      <td>255.52</td>\n",
       "      <td>249.40</td>\n",
       "      <td>254.81</td>\n",
       "      <td>41994110.0</td>\n",
       "      <td>0.016232</td>\n",
       "    </tr>\n",
       "    <tr>\n",
       "      <th>2</th>\n",
       "      <td>2020-03-27</td>\n",
       "      <td>252.75</td>\n",
       "      <td>255.87</td>\n",
       "      <td>247.05</td>\n",
       "      <td>247.74</td>\n",
       "      <td>51054153.0</td>\n",
       "      <td>-0.019822</td>\n",
       "    </tr>\n",
       "    <tr>\n",
       "      <th>3</th>\n",
       "      <td>2020-03-26</td>\n",
       "      <td>246.52</td>\n",
       "      <td>258.68</td>\n",
       "      <td>246.36</td>\n",
       "      <td>258.44</td>\n",
       "      <td>63140169.0</td>\n",
       "      <td>0.048353</td>\n",
       "    </tr>\n",
       "    <tr>\n",
       "      <th>4</th>\n",
       "      <td>2020-03-25</td>\n",
       "      <td>250.75</td>\n",
       "      <td>258.25</td>\n",
       "      <td>244.30</td>\n",
       "      <td>245.52</td>\n",
       "      <td>75900510.0</td>\n",
       "      <td>-0.020857</td>\n",
       "    </tr>\n",
       "  </tbody>\n",
       "</table>\n",
       "</div>"
      ],
      "text/plain": [
       "        date  AAPL_open  AAPL_high  AAPL_low  AAPL_close  AAPL_volume  \\\n",
       "0 2020-03-31     255.60     262.49    252.00      254.29   49039414.0   \n",
       "1 2020-03-30     250.74     255.52    249.40      254.81   41994110.0   \n",
       "2 2020-03-27     252.75     255.87    247.05      247.74   51054153.0   \n",
       "3 2020-03-26     246.52     258.68    246.36      258.44   63140169.0   \n",
       "4 2020-03-25     250.75     258.25    244.30      245.52   75900510.0   \n",
       "\n",
       "   AAPL_return  \n",
       "0    -0.005125  \n",
       "1     0.016232  \n",
       "2    -0.019822  \n",
       "3     0.048353  \n",
       "4    -0.020857  "
      ]
     },
     "execution_count": 5,
     "metadata": {},
     "output_type": "execute_result"
    }
   ],
   "source": [
    "temp_df['date'] = pd.to_datetime(temp_df['date'])\n",
    "temp_df.head()"
   ]
  },
  {
   "cell_type": "code",
   "execution_count": 6,
   "metadata": {},
   "outputs": [
    {
     "data": {
      "text/plain": [
       "3335"
      ]
     },
     "execution_count": 6,
     "metadata": {},
     "output_type": "execute_result"
    }
   ],
   "source": [
    "df_length = len(temp_df[(temp_df['date'] >= '2006-12-29') & (temp_df['date'] <= '2020-03-31')])\n",
    "df_length"
   ]
  },
  {
   "cell_type": "code",
   "execution_count": 7,
   "metadata": {},
   "outputs": [
    {
     "data": {
      "text/html": [
       "<div>\n",
       "<style scoped>\n",
       "    .dataframe tbody tr th:only-of-type {\n",
       "        vertical-align: middle;\n",
       "    }\n",
       "\n",
       "    .dataframe tbody tr th {\n",
       "        vertical-align: top;\n",
       "    }\n",
       "\n",
       "    .dataframe thead th {\n",
       "        text-align: right;\n",
       "    }\n",
       "</style>\n",
       "<table border=\"1\" class=\"dataframe\">\n",
       "  <thead>\n",
       "    <tr style=\"text-align: right;\">\n",
       "      <th></th>\n",
       "      <th>date</th>\n",
       "      <th>AAPL_open</th>\n",
       "      <th>AAPL_high</th>\n",
       "      <th>AAPL_low</th>\n",
       "      <th>AAPL_close</th>\n",
       "      <th>AAPL_volume</th>\n",
       "      <th>AAPL_return</th>\n",
       "    </tr>\n",
       "  </thead>\n",
       "  <tbody>\n",
       "    <tr>\n",
       "      <th>0</th>\n",
       "      <td>2020-03-31</td>\n",
       "      <td>255.60</td>\n",
       "      <td>262.49</td>\n",
       "      <td>252.00</td>\n",
       "      <td>254.29</td>\n",
       "      <td>49039414.0</td>\n",
       "      <td>-0.005125</td>\n",
       "    </tr>\n",
       "    <tr>\n",
       "      <th>1</th>\n",
       "      <td>2020-03-30</td>\n",
       "      <td>250.74</td>\n",
       "      <td>255.52</td>\n",
       "      <td>249.40</td>\n",
       "      <td>254.81</td>\n",
       "      <td>41994110.0</td>\n",
       "      <td>0.016232</td>\n",
       "    </tr>\n",
       "    <tr>\n",
       "      <th>2</th>\n",
       "      <td>2020-03-27</td>\n",
       "      <td>252.75</td>\n",
       "      <td>255.87</td>\n",
       "      <td>247.05</td>\n",
       "      <td>247.74</td>\n",
       "      <td>51054153.0</td>\n",
       "      <td>-0.019822</td>\n",
       "    </tr>\n",
       "    <tr>\n",
       "      <th>3</th>\n",
       "      <td>2020-03-26</td>\n",
       "      <td>246.52</td>\n",
       "      <td>258.68</td>\n",
       "      <td>246.36</td>\n",
       "      <td>258.44</td>\n",
       "      <td>63140169.0</td>\n",
       "      <td>0.048353</td>\n",
       "    </tr>\n",
       "    <tr>\n",
       "      <th>4</th>\n",
       "      <td>2020-03-25</td>\n",
       "      <td>250.75</td>\n",
       "      <td>258.25</td>\n",
       "      <td>244.30</td>\n",
       "      <td>245.52</td>\n",
       "      <td>75900510.0</td>\n",
       "      <td>-0.020857</td>\n",
       "    </tr>\n",
       "  </tbody>\n",
       "</table>\n",
       "</div>"
      ],
      "text/plain": [
       "        date  AAPL_open  AAPL_high  AAPL_low  AAPL_close  AAPL_volume  \\\n",
       "0 2020-03-31     255.60     262.49    252.00      254.29   49039414.0   \n",
       "1 2020-03-30     250.74     255.52    249.40      254.81   41994110.0   \n",
       "2 2020-03-27     252.75     255.87    247.05      247.74   51054153.0   \n",
       "3 2020-03-26     246.52     258.68    246.36      258.44   63140169.0   \n",
       "4 2020-03-25     250.75     258.25    244.30      245.52   75900510.0   \n",
       "\n",
       "   AAPL_return  \n",
       "0    -0.005125  \n",
       "1     0.016232  \n",
       "2    -0.019822  \n",
       "3     0.048353  \n",
       "4    -0.020857  "
      ]
     },
     "execution_count": 7,
     "metadata": {},
     "output_type": "execute_result"
    }
   ],
   "source": [
    "temp_df.head()"
   ]
  },
  {
   "cell_type": "code",
   "execution_count": null,
   "metadata": {},
   "outputs": [],
   "source": [
    "# df_price07_20 = pd.DataFrame([])\n",
    "# df_return07_20 = pd.DataFrame([])\n",
    "\n",
    "# temp_name= file.split('.')[0]\n",
    "# price_name = temp_name +'_close'\n",
    "# ret_name = temp_name+'_return'\n",
    "\n",
    "# temp_price = pd.DataFrame(temp_df[price_name], columns=[temp_name])\n",
    "# temp_return = pd.DataFrame(temp_df[ret_name], columns=[temp_name])"
   ]
  },
  {
   "cell_type": "code",
   "execution_count": null,
   "metadata": {},
   "outputs": [],
   "source": [
    "#temp_price.T"
   ]
  },
  {
   "cell_type": "code",
   "execution_count": 8,
   "metadata": {},
   "outputs": [],
   "source": [
    "df_price07_20 = pd.DataFrame([])\n",
    "df_return07_20 = pd.DataFrame([])\n",
    "error_list = []\n",
    "\n",
    "for file in os.listdir():\n",
    "    try:\n",
    "        temp_name= file.split('.')[0]\n",
    "        price_name = temp_name +'_close'\n",
    "        ret_name = temp_name+'_return'\n",
    "\n",
    "        temp_df = pd.read_csv(file)\n",
    "        \n",
    "        temp_df['date'] = pd.to_datetime(temp_df['date'])\n",
    "        temp_df = temp_df[(temp_df['date'] >= '2006-12-29') & (temp_df['date'] <= '2020-03-31')]\n",
    "        temp_df.index = temp_df['date']\n",
    "\n",
    "        value = temp_df.shape[0]\n",
    "        if value == df_length:\n",
    "            temp_price = temp_df[price_name]\n",
    "            temp_return = temp_df[ret_name]\n",
    "            temp_price.name = temp_name\n",
    "            temp_return.name = temp_name\n",
    "            #print('{} has length: {}'.format(temp_name, value))\n",
    "            df_price07_20 = pd.concat([df_price07_20, temp_price], axis=1)\n",
    "            df_return07_20 = pd.concat([df_return07_20, temp_return], axis=1)                \n",
    "        else:\n",
    "            pass\n",
    "\n",
    "    except:\n",
    "        error_list.append(file)"
   ]
  },
  {
   "cell_type": "code",
   "execution_count": 10,
   "metadata": {},
   "outputs": [],
   "source": [
    "#df_return07_20['SPX'][:50]"
   ]
  },
  {
   "cell_type": "code",
   "execution_count": null,
   "metadata": {},
   "outputs": [],
   "source": []
  },
  {
   "cell_type": "code",
   "execution_count": 12,
   "metadata": {},
   "outputs": [],
   "source": [
    "#df_return07_20[df_return07_20.index>=pd.to_datetime('2020-01-01')]['SPX'].sort_values()"
   ]
  },
  {
   "cell_type": "code",
   "execution_count": null,
   "metadata": {},
   "outputs": [],
   "source": [
    "#df_price07_20"
   ]
  },
  {
   "cell_type": "code",
   "execution_count": 13,
   "metadata": {},
   "outputs": [],
   "source": [
    "df_price07_20.to_csv('C:\\\\Users\\\\A Sua\\\\Documents\\\\FIU\\\\CAP2020\\\\data\\\\processed\\\\df_price07_20.csv')\n",
    "df_return07_20.to_csv('C:\\\\Users\\\\A Sua\\\\Documents\\\\FIU\\\\CAP2020\\\\data\\\\processed\\\\df_return7_20.csv')"
   ]
  },
  {
   "cell_type": "code",
   "execution_count": null,
   "metadata": {},
   "outputs": [],
   "source": []
  }
 ],
 "metadata": {
  "kernelspec": {
   "display_name": "Python [conda env:Anaconda3]",
   "language": "python",
   "name": "conda-env-Anaconda3-py"
  },
  "language_info": {
   "codemirror_mode": {
    "name": "ipython",
    "version": 3
   },
   "file_extension": ".py",
   "mimetype": "text/x-python",
   "name": "python",
   "nbconvert_exporter": "python",
   "pygments_lexer": "ipython3",
   "version": "3.6.9"
  }
 },
 "nbformat": 4,
 "nbformat_minor": 2
}
